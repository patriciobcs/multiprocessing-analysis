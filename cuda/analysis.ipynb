{
 "cells": [
  {
   "cell_type": "markdown",
   "metadata": {},
   "source": [
    "# TP CUDA - October 2022"
   ]
  },
  {
   "cell_type": "code",
   "execution_count": 4,
   "metadata": {},
   "outputs": [],
   "source": [
    "import matplotlib.pyplot as plt\n",
    "import numpy as np\n",
    "from numpy import genfromtxt\n",
    "\n",
    "import pandas as pd\n",
    "\n",
    "import warnings\n",
    "warnings.filterwarnings('ignore')"
   ]
  },
  {
   "cell_type": "markdown",
   "metadata": {},
   "source": [
    "## Part 1 : Pi"
   ]
  },
  {
   "cell_type": "markdown",
   "metadata": {},
   "source": [
    "### Compilation and performance evaluation"
   ]
  },
  {
   "cell_type": "code",
   "execution_count": 34,
   "metadata": {},
   "outputs": [],
   "source": [
    "!make pi"
   ]
  },
  {
   "cell_type": "code",
   "execution_count": null,
   "metadata": {},
   "outputs": [],
   "source": [
    "df = pd.read_csv(\"pi.csv\")"
   ]
  },
  {
   "cell_type": "markdown",
   "metadata": {},
   "source": [
    "### Performance analysis"
   ]
  },
  {
   "cell_type": "code",
   "execution_count": null,
   "metadata": {},
   "outputs": [],
   "source": [
    "color_num_threads = {10000 : \"blue\", 100000 : \"red\", 1000000 : \"green\", 10000000 : \"black\"}\n",
    "\n",
    "for num_threads in df['num_threads']:\n",
    "    df_plot = df[(df['num_threads'] == int(num_threads))]\n",
    "    df_plot = df_plot[df_plot['method'] == \"atomic\"]\n",
    "    \n",
    "    mean_stats = df_plot.groupby(['num_threads','num_threads']).mean().reset_index()\n",
    "    \n",
    "    plt.plot(mean_stats['num_threads'], mean_stats['runtime'],linestyle=\"solid\",color=color_num_threads[num_threads])\n",
    "    plt.yscale('log')\n",
    "    plt.scatter(df_plot['num_threads'], df_plot['runtime'],color=color_num_threads[num_threads])\n",
    "\n",
    "    df_plot = df[(df['num_threads'] == num_threads) & (df['method'] == \"reduce\")]\n",
    "    mean_stats = df_plot.groupby(['num_threads','method','num_threads']).mean().reset_index()\n",
    "    \n",
    "    plt.plot(mean_stats['num_threads'], mean_stats['runtime'],linestyle=\"dashed\",color=color_num_threads[num_threads])\n",
    "    plt.yscale('log')\n",
    "    plt.scatter(df_plot['num_threads'], df_plot['runtime'],color=color_num_threads[num_threads])\n",
    "    \n",
    "plt.xlabel(\"Num threads\")\n",
    "plt.ylabel(\"Runtime\")\n",
    "plt.title(\"Runtime vs num threads by num steps\")\n",
    "plt.legend()\n",
    "plt.show()"
   ]
  },
  {
   "cell_type": "code",
   "execution_count": null,
   "metadata": {},
   "outputs": [],
   "source": [
    "df_threads = df.pivot(columns='method', values='runtime')\n",
    "df_threads.boxplot()\n",
    "plt.yscale('log')\n",
    "plt.title('Resultats generals')\n",
    "plt.xlabel('Method')\n",
    "plt.ylabel('Runtime')"
   ]
  },
  {
   "cell_type": "markdown",
   "metadata": {},
   "source": [
    "## Part 2 : Vector"
   ]
  },
  {
   "cell_type": "markdown",
   "metadata": {},
   "source": [
    "### Compilation and performance evaluation"
   ]
  },
  {
   "cell_type": "code",
   "execution_count": null,
   "metadata": {},
   "outputs": [],
   "source": [
    "!make vector"
   ]
  },
  {
   "cell_type": "markdown",
   "metadata": {},
   "source": [
    "### Performance analysis"
   ]
  },
  {
   "cell_type": "code",
   "execution_count": 5,
   "metadata": {},
   "outputs": [],
   "source": [
    "df_vector = pd.read_csv(\"metrics_part_2.csv\")"
   ]
  },
  {
   "cell_type": "code",
   "execution_count": null,
   "metadata": {},
   "outputs": [],
   "source": [
    "num_threads = {1 : \"blue\", 2 : \"red\", 4 : \"green\", 8 : \"black\"}\n",
    "\n",
    "for num_threads in df['num_threads']:\n",
    "    df_plot = df[(df['num_threads'] == int(num_threads))]\n",
    "    df_plot = df_plot[df_plot['method'] == \"atomic\"]\n",
    "    \n",
    "    mean_stats = df_plot.groupby(['num_threads','method','num_threads']).mean().reset_index()\n",
    "    \n",
    "    plt.plot(mean_stats['num_threads'], mean_stats['runtime'],linestyle=\"solid\",color=color_num_steps[num_steps])\n",
    "    plt.yscale('log')\n",
    "    plt.scatter(df_plot['num_threads'], df_plot['runtime'],color=color_num_steps[num_steps])\n",
    "\n",
    "    df_plot = df[(df['num_threads'] == num_steps) & (df['method'] == \"reduce\")]\n",
    "    mean_stats = df_plot.groupby(['num_threads','method','num_threads']).mean().reset_index()\n",
    "    \n",
    "    plt.plot(mean_stats['num_threads'], mean_stats['runtime'],linestyle=\"dashed\",color=color_num_steps[num_steps])\n",
    "    plt.yscale('log')\n",
    "    plt.scatter(df_plot['num_threads'], df_plot['runtime'],color=color_num_steps[num_steps])\n",
    "    \n",
    "plt.xlabel(\"N\")\n",
    "plt.ylabel(\"Runtime\")\n",
    "plt.title(\"OMP vs OMP+SIMD by num threads\")\n",
    "plt.legend()\n",
    "plt.show()"
   ]
  }
 ],
 "metadata": {
  "kernelspec": {
   "display_name": "Python 3.8.10 64-bit",
   "language": "python",
   "name": "python3"
  },
  "language_info": {
   "codemirror_mode": {
    "name": "ipython",
    "version": 3
   },
   "file_extension": ".py",
   "mimetype": "text/x-python",
   "name": "python",
   "nbconvert_exporter": "python",
   "pygments_lexer": "ipython3",
   "version": "3.9.6"
  },
  "orig_nbformat": 4,
  "vscode": {
   "interpreter": {
    "hash": "31f2aee4e71d21fbe5cf8b01ff0e069b9275f58929596ceb00d14d90e3e16cd6"
   }
  }
 },
 "nbformat": 4,
 "nbformat_minor": 2
}
